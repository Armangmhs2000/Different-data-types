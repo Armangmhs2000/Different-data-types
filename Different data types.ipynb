{
 "cells": [
  {
   "cell_type": "code",
   "execution_count": 1,
   "id": "9bf1b3f8-0d7c-43ff-9be5-722d949b5950",
   "metadata": {},
   "outputs": [],
   "source": [
    "x=10\n",
    "y=10.5\n",
    "z=5+10j\n",
    "#integer,float,complex data types"
   ]
  },
  {
   "cell_type": "code",
   "execution_count": 2,
   "id": "6b849113-9a16-4541-b1a2-ed025b293552",
   "metadata": {},
   "outputs": [
    {
     "data": {
      "text/plain": [
       "int"
      ]
     },
     "execution_count": 2,
     "metadata": {},
     "output_type": "execute_result"
    }
   ],
   "source": [
    "type(x)"
   ]
  },
  {
   "cell_type": "code",
   "execution_count": 3,
   "id": "805244de-6e42-436c-9d19-c7950fc13249",
   "metadata": {},
   "outputs": [
    {
     "data": {
      "text/plain": [
       "float"
      ]
     },
     "execution_count": 3,
     "metadata": {},
     "output_type": "execute_result"
    }
   ],
   "source": [
    "type(y)\n"
   ]
  },
  {
   "cell_type": "code",
   "execution_count": 4,
   "id": "45eba518-7058-4b29-a890-ff833688e98d",
   "metadata": {},
   "outputs": [
    {
     "data": {
      "text/plain": [
       "complex"
      ]
     },
     "execution_count": 4,
     "metadata": {},
     "output_type": "execute_result"
    }
   ],
   "source": [
    "type(z)"
   ]
  },
  {
   "cell_type": "code",
   "execution_count": 5,
   "id": "ea4e2e9e-04bc-4e1a-8614-a869e82a484c",
   "metadata": {},
   "outputs": [
    {
     "data": {
      "text/plain": [
       "True"
      ]
     },
     "execution_count": 5,
     "metadata": {},
     "output_type": "execute_result"
    }
   ],
   "source": [
    "isinstance(z,complex)#to check the data type "
   ]
  },
  {
   "cell_type": "code",
   "execution_count": 6,
   "id": "7d39a97b-f6c4-41c6-9825-e938694def52",
   "metadata": {},
   "outputs": [
    {
     "data": {
      "text/plain": [
       "False"
      ]
     },
     "execution_count": 6,
     "metadata": {},
     "output_type": "execute_result"
    }
   ],
   "source": [
    "isinstance(10,float)"
   ]
  },
  {
   "cell_type": "code",
   "execution_count": 7,
   "id": "b37f94fc-9c8c-45fa-82e7-d98a857f45d4",
   "metadata": {},
   "outputs": [],
   "source": [
    "n=float(x)#to change integer type to float "
   ]
  },
  {
   "cell_type": "code",
   "execution_count": 8,
   "id": "ce30a44a-0f4e-455f-b480-7440f8f1a577",
   "metadata": {},
   "outputs": [
    {
     "data": {
      "text/plain": [
       "10.0"
      ]
     },
     "execution_count": 8,
     "metadata": {},
     "output_type": "execute_result"
    }
   ],
   "source": [
    "n"
   ]
  },
  {
   "cell_type": "code",
   "execution_count": 9,
   "id": "7a4c5f85-a702-4802-9777-deebc06633fa",
   "metadata": {},
   "outputs": [],
   "source": [
    "n=int(y)"
   ]
  },
  {
   "cell_type": "code",
   "execution_count": 10,
   "id": "b3723650-b4f9-4aef-8ca1-e3b8e20c41e8",
   "metadata": {},
   "outputs": [
    {
     "data": {
      "text/plain": [
       "10"
      ]
     },
     "execution_count": 10,
     "metadata": {},
     "output_type": "execute_result"
    }
   ],
   "source": [
    "n"
   ]
  },
  {
   "cell_type": "code",
   "execution_count": 11,
   "id": "4e6c4731-6bf2-4f4f-865f-748a58d833a0",
   "metadata": {},
   "outputs": [],
   "source": [
    "n=complex(n)#conversion of complex to float/int not possible"
   ]
  },
  {
   "cell_type": "code",
   "execution_count": 12,
   "id": "dd2e8e1f-7118-4cb8-a392-a09f177d1f24",
   "metadata": {},
   "outputs": [
    {
     "data": {
      "text/plain": [
       "(10+0j)"
      ]
     },
     "execution_count": 12,
     "metadata": {},
     "output_type": "execute_result"
    }
   ],
   "source": [
    "n"
   ]
  },
  {
   "cell_type": "code",
   "execution_count": 13,
   "id": "32339052-ce58-4ae9-88a4-f8466216ffab",
   "metadata": {},
   "outputs": [
    {
     "name": "stdin",
     "output_type": "stream",
     "text": [
      "enter your complex number  1\n"
     ]
    }
   ],
   "source": [
    "n=complex(input('enter your complex number '))\n"
   ]
  },
  {
   "cell_type": "code",
   "execution_count": 14,
   "id": "d034d7c0-5904-4095-95ce-864e9be20252",
   "metadata": {},
   "outputs": [
    {
     "data": {
      "text/plain": [
       "(1+0j)"
      ]
     },
     "execution_count": 14,
     "metadata": {},
     "output_type": "execute_result"
    }
   ],
   "source": [
    "n"
   ]
  },
  {
   "cell_type": "code",
   "execution_count": 15,
   "id": "6da7c71b-7ea3-4fba-b930-8c4b44935416",
   "metadata": {},
   "outputs": [
    {
     "name": "stdin",
     "output_type": "stream",
     "text": [
      "enter your complex number  1+5j\n"
     ]
    }
   ],
   "source": [
    "n=complex(input('enter your complex number '))"
   ]
  },
  {
   "cell_type": "code",
   "execution_count": 16,
   "id": "13021cb9-3354-47a0-bf5c-3ffa3197f5c9",
   "metadata": {},
   "outputs": [
    {
     "data": {
      "text/plain": [
       "(1+5j)"
      ]
     },
     "execution_count": 16,
     "metadata": {},
     "output_type": "execute_result"
    }
   ],
   "source": [
    "n"
   ]
  },
  {
   "cell_type": "code",
   "execution_count": 17,
   "id": "3c20f8e9-11ac-4b28-ba3f-22716cf11dee",
   "metadata": {},
   "outputs": [],
   "source": [
    "x=True\n",
    "y=False\n",
    "#boolean data type,first letter of true and false will be capital"
   ]
  },
  {
   "cell_type": "code",
   "execution_count": 18,
   "id": "13300282-9e8b-48a9-b923-ad83cbd14b96",
   "metadata": {},
   "outputs": [
    {
     "data": {
      "text/plain": [
       "True"
      ]
     },
     "execution_count": 18,
     "metadata": {},
     "output_type": "execute_result"
    }
   ],
   "source": [
    "x"
   ]
  },
  {
   "cell_type": "code",
   "execution_count": 19,
   "id": "46e73c11-adf5-4b7a-b88d-3d0c57933859",
   "metadata": {},
   "outputs": [],
   "source": [
    "l=[1,2,3,True,[4,5],'data',(6,7,8)]#represents list,combination of multiple data types,represents by quare bracket"
   ]
  },
  {
   "cell_type": "code",
   "execution_count": 20,
   "id": "26c8a848-531c-404e-a52b-3573e3329e2e",
   "metadata": {},
   "outputs": [
    {
     "data": {
      "text/plain": [
       "1"
      ]
     },
     "execution_count": 20,
     "metadata": {},
     "output_type": "execute_result"
    }
   ],
   "source": [
    "l[0]#to see the element of 0 index"
   ]
  },
  {
   "cell_type": "code",
   "execution_count": 21,
   "id": "85aa12a1-9ed5-4eee-9843-54a5d2ff9c1c",
   "metadata": {},
   "outputs": [
    {
     "data": {
      "text/plain": [
       "(6, 7, 8)"
      ]
     },
     "execution_count": 21,
     "metadata": {},
     "output_type": "execute_result"
    }
   ],
   "source": [
    "l[-1]#last element represents the -1 index"
   ]
  },
  {
   "cell_type": "code",
   "execution_count": 22,
   "id": "69371c58-8645-4ec2-a9f3-b168278722b2",
   "metadata": {},
   "outputs": [
    {
     "data": {
      "text/plain": [
       "7"
      ]
     },
     "execution_count": 22,
     "metadata": {},
     "output_type": "execute_result"
    }
   ],
   "source": [
    "l[-1][1]#to see the 1st index element of -1 index"
   ]
  },
  {
   "cell_type": "code",
   "execution_count": 23,
   "id": "1f0ad3bb-dad5-41d4-acfc-1368b9415886",
   "metadata": {},
   "outputs": [],
   "source": [
    "t=(1,2,3,True,[4,5],'data',(6,7,8))#tuple-represents by 1st bracket ,combination of multiple data types"
   ]
  },
  {
   "cell_type": "code",
   "execution_count": 24,
   "id": "f48d8e75-d775-4df5-9246-4d8c13f33a20",
   "metadata": {},
   "outputs": [
    {
     "data": {
      "text/plain": [
       "(1, 2, 3, True, [4, 5], 'data', (6, 7, 8))"
      ]
     },
     "execution_count": 24,
     "metadata": {},
     "output_type": "execute_result"
    }
   ],
   "source": [
    "t"
   ]
  },
  {
   "cell_type": "code",
   "execution_count": 25,
   "id": "1fdc9f43-123a-4491-9020-d644612daf5b",
   "metadata": {},
   "outputs": [
    {
     "data": {
      "text/plain": [
       "tuple"
      ]
     },
     "execution_count": 25,
     "metadata": {},
     "output_type": "execute_result"
    }
   ],
   "source": [
    "type(t)"
   ]
  },
  {
   "cell_type": "code",
   "execution_count": 26,
   "id": "590ee298-eb25-49ca-90e6-5b8077e6d41c",
   "metadata": {},
   "outputs": [
    {
     "data": {
      "text/plain": [
       "1"
      ]
     },
     "execution_count": 26,
     "metadata": {},
     "output_type": "execute_result"
    }
   ],
   "source": [
    "t[0]"
   ]
  },
  {
   "cell_type": "code",
   "execution_count": 27,
   "id": "75f5d783-943a-4e6b-8cd8-e10bff29ce2e",
   "metadata": {},
   "outputs": [
    {
     "data": {
      "text/plain": [
       "(1, 2, 3, True)"
      ]
     },
     "execution_count": 27,
     "metadata": {},
     "output_type": "execute_result"
    }
   ],
   "source": [
    "t[0:4]#colon means 0 to n-1 index "
   ]
  },
  {
   "cell_type": "code",
   "execution_count": 2,
   "id": "9769e47c-99dd-4c18-b908-53b8686cca80",
   "metadata": {},
   "outputs": [],
   "source": [
    "x=range(10)#range function starts with 0 by default"
   ]
  },
  {
   "cell_type": "code",
   "execution_count": 3,
   "id": "d554754d-ee95-42b3-93ba-5180db1b5acd",
   "metadata": {},
   "outputs": [
    {
     "data": {
      "text/plain": [
       "range(0, 10)"
      ]
     },
     "execution_count": 3,
     "metadata": {},
     "output_type": "execute_result"
    }
   ],
   "source": [
    "x"
   ]
  },
  {
   "cell_type": "code",
   "execution_count": 4,
   "id": "02e689a1-7466-4b0c-9362-b70dee54df45",
   "metadata": {},
   "outputs": [
    {
     "name": "stdout",
     "output_type": "stream",
     "text": [
      "0\n",
      "1\n",
      "2\n",
      "3\n",
      "4\n",
      "5\n",
      "6\n",
      "7\n",
      "8\n",
      "9\n"
     ]
    }
   ],
   "source": [
    "for i in x:\n",
    "    print(i)\n",
    "    #to show all elements before 10 starting with 0"
   ]
  },
  {
   "cell_type": "code",
   "execution_count": 5,
   "id": "39dce1b3-e5df-4ca8-8e33-200ab3b3be9e",
   "metadata": {},
   "outputs": [],
   "source": [
    "x=range(5,20)#starting from 5 and stops with before 20"
   ]
  },
  {
   "cell_type": "code",
   "execution_count": 6,
   "id": "c2b773c0-b095-4712-a6e2-a2d3d7f7b606",
   "metadata": {},
   "outputs": [
    {
     "name": "stdout",
     "output_type": "stream",
     "text": [
      "5\n",
      "6\n",
      "7\n",
      "8\n",
      "9\n",
      "10\n",
      "11\n",
      "12\n",
      "13\n",
      "14\n",
      "15\n",
      "16\n",
      "17\n",
      "18\n",
      "19\n"
     ]
    }
   ],
   "source": [
    "for i in x:\n",
    "    print(i)"
   ]
  },
  {
   "cell_type": "code",
   "execution_count": 7,
   "id": "befd3855-5a99-4153-abce-131a0ad8d58c",
   "metadata": {},
   "outputs": [
    {
     "name": "stdout",
     "output_type": "stream",
     "text": [
      "5\n",
      "7\n",
      "9\n",
      "11\n",
      "13\n",
      "15\n",
      "17\n",
      "19\n"
     ]
    }
   ],
   "source": [
    "x=range(5,20,2)#starting from 5 and stops with before 20 with increment 2\n",
    "for i in x:\n",
    "    print(i)"
   ]
  },
  {
   "cell_type": "code",
   "execution_count": 8,
   "id": "56e04aaf-8b82-4e7a-b851-994fbd04e70e",
   "metadata": {},
   "outputs": [
    {
     "name": "stdout",
     "output_type": "stream",
     "text": [
      "20\n",
      "18\n",
      "16\n",
      "14\n",
      "12\n",
      "10\n",
      "8\n",
      "6\n"
     ]
    }
   ],
   "source": [
    "x=range(20,5,-2)#reverse loop\n",
    "for i in x:\n",
    "    print(i)"
   ]
  },
  {
   "cell_type": "code",
   "execution_count": 10,
   "id": "ff689468-54f3-4ab2-88f8-ac7a16729ff7",
   "metadata": {},
   "outputs": [],
   "source": [
    "import array as ar \n",
    "#any library can be imported with new name;array library has been imported as ar ;array means collection of different values of same data types \n",
    "\n"
   ]
  },
  {
   "cell_type": "code",
   "execution_count": 11,
   "id": "e511c0a3-624b-432d-ba3b-59dc7da8f90b",
   "metadata": {},
   "outputs": [],
   "source": [
    "a=ar.array('i',[1,2,3])#i represents integer data types;"
   ]
  },
  {
   "cell_type": "code",
   "execution_count": 12,
   "id": "27338b17-a09d-4dc6-98bf-b572abfa8673",
   "metadata": {},
   "outputs": [
    {
     "data": {
      "text/plain": [
       "array('i', [1, 2, 3])"
      ]
     },
     "execution_count": 12,
     "metadata": {},
     "output_type": "execute_result"
    }
   ],
   "source": [
    "a"
   ]
  },
  {
   "cell_type": "code",
   "execution_count": 13,
   "id": "c75a30f9-356e-451f-b079-53e393384586",
   "metadata": {},
   "outputs": [
    {
     "data": {
      "text/plain": [
       "set"
      ]
     },
     "execution_count": 13,
     "metadata": {},
     "output_type": "execute_result"
    }
   ],
   "source": [
    "s={1,2,3}\n",
    "type(s)\n",
    "#2nd bracket is used for set"
   ]
  },
  {
   "cell_type": "code",
   "execution_count": 15,
   "id": "9d21b06d-d5e1-47a4-8faf-99cdf133bbb7",
   "metadata": {},
   "outputs": [],
   "source": [
    "#dictionary data type means key-value pair collection ;every value (may be unique or same)is seen by unique key not uses index \n",
    "#to see value\n",
    "dic={\n",
    "    'varsity':'nstu',\n",
    "    'dept':'Applied math'\n",
    "}"
   ]
  },
  {
   "cell_type": "code",
   "execution_count": 16,
   "id": "eb9274f3-689a-4cf8-85ec-7d693364615c",
   "metadata": {},
   "outputs": [
    {
     "data": {
      "text/plain": [
       "dict"
      ]
     },
     "execution_count": 16,
     "metadata": {},
     "output_type": "execute_result"
    }
   ],
   "source": [
    "type(dic)"
   ]
  },
  {
   "cell_type": "code",
   "execution_count": 17,
   "id": "78f638b1-9037-4fd6-8615-f44e91b7e8ad",
   "metadata": {},
   "outputs": [
    {
     "data": {
      "text/plain": [
       "dict_keys(['varsity', 'dept'])"
      ]
     },
     "execution_count": 17,
     "metadata": {},
     "output_type": "execute_result"
    }
   ],
   "source": [
    "dic.keys()#to see the keys "
   ]
  },
  {
   "cell_type": "code",
   "execution_count": 18,
   "id": "3a46af64-5416-4bbb-b0f9-46724e3aeb49",
   "metadata": {},
   "outputs": [
    {
     "data": {
      "text/plain": [
       "dict_values(['nstu', 'Applied math'])"
      ]
     },
     "execution_count": 18,
     "metadata": {},
     "output_type": "execute_result"
    }
   ],
   "source": [
    "dic.values())#to see the values"
   ]
  }
 ],
 "metadata": {
  "kernelspec": {
   "display_name": "Python 3 (ipykernel)",
   "language": "python",
   "name": "python3"
  },
  "language_info": {
   "codemirror_mode": {
    "name": "ipython",
    "version": 3
   },
   "file_extension": ".py",
   "mimetype": "text/x-python",
   "name": "python",
   "nbconvert_exporter": "python",
   "pygments_lexer": "ipython3",
   "version": "3.13.7"
  }
 },
 "nbformat": 4,
 "nbformat_minor": 5
}
